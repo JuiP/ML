{
 "cells": [
  {
   "cell_type": "code",
   "execution_count": 251,
   "metadata": {
    "scrolled": false
   },
   "outputs": [
    {
     "data": {
      "text/html": [
       "<div>\n",
       "<style scoped>\n",
       "    .dataframe tbody tr th:only-of-type {\n",
       "        vertical-align: middle;\n",
       "    }\n",
       "\n",
       "    .dataframe tbody tr th {\n",
       "        vertical-align: top;\n",
       "    }\n",
       "\n",
       "    .dataframe thead th {\n",
       "        text-align: right;\n",
       "    }\n",
       "</style>\n",
       "<table border=\"1\" class=\"dataframe\">\n",
       "  <thead>\n",
       "    <tr style=\"text-align: right;\">\n",
       "      <th></th>\n",
       "      <th>0</th>\n",
       "      <th>1</th>\n",
       "      <th>2</th>\n",
       "    </tr>\n",
       "  </thead>\n",
       "  <tbody>\n",
       "    <tr>\n",
       "      <th>0</th>\n",
       "      <td>-0.598283</td>\n",
       "      <td>1.023534</td>\n",
       "      <td>1</td>\n",
       "    </tr>\n",
       "    <tr>\n",
       "      <th>1</th>\n",
       "      <td>1.115929</td>\n",
       "      <td>0.512127</td>\n",
       "      <td>1</td>\n",
       "    </tr>\n",
       "    <tr>\n",
       "      <th>2</th>\n",
       "      <td>1.169815</td>\n",
       "      <td>-1.072747</td>\n",
       "      <td>0</td>\n",
       "    </tr>\n",
       "    <tr>\n",
       "      <th>3</th>\n",
       "      <td>0.631926</td>\n",
       "      <td>-0.255663</td>\n",
       "      <td>0</td>\n",
       "    </tr>\n",
       "    <tr>\n",
       "      <th>4</th>\n",
       "      <td>0.052532</td>\n",
       "      <td>1.198445</td>\n",
       "      <td>1</td>\n",
       "    </tr>\n",
       "    <tr>\n",
       "      <th>...</th>\n",
       "      <td>...</td>\n",
       "      <td>...</td>\n",
       "      <td>...</td>\n",
       "    </tr>\n",
       "    <tr>\n",
       "      <th>995</th>\n",
       "      <td>-1.226337</td>\n",
       "      <td>-0.507286</td>\n",
       "      <td>0</td>\n",
       "    </tr>\n",
       "    <tr>\n",
       "      <th>996</th>\n",
       "      <td>0.107578</td>\n",
       "      <td>0.634166</td>\n",
       "      <td>1</td>\n",
       "    </tr>\n",
       "    <tr>\n",
       "      <th>997</th>\n",
       "      <td>-0.317336</td>\n",
       "      <td>-0.357282</td>\n",
       "      <td>0</td>\n",
       "    </tr>\n",
       "    <tr>\n",
       "      <th>998</th>\n",
       "      <td>-0.295127</td>\n",
       "      <td>0.746446</td>\n",
       "      <td>1</td>\n",
       "    </tr>\n",
       "    <tr>\n",
       "      <th>999</th>\n",
       "      <td>-0.883061</td>\n",
       "      <td>0.287511</td>\n",
       "      <td>1</td>\n",
       "    </tr>\n",
       "  </tbody>\n",
       "</table>\n",
       "<p>1000 rows × 3 columns</p>\n",
       "</div>"
      ],
      "text/plain": [
       "            0         1  2\n",
       "0   -0.598283  1.023534  1\n",
       "1    1.115929  0.512127  1\n",
       "2    1.169815 -1.072747  0\n",
       "3    0.631926 -0.255663  0\n",
       "4    0.052532  1.198445  1\n",
       "..        ...       ... ..\n",
       "995 -1.226337 -0.507286  0\n",
       "996  0.107578  0.634166  1\n",
       "997 -0.317336 -0.357282  0\n",
       "998 -0.295127  0.746446  1\n",
       "999 -0.883061  0.287511  1\n",
       "\n",
       "[1000 rows x 3 columns]"
      ]
     },
     "execution_count": 251,
     "metadata": {},
     "output_type": "execute_result"
    }
   ],
   "source": [
    "import pandas as pd\n",
    "import numpy as np\n",
    "import matplotlib.pyplot as plt\n",
    "\n",
    "data = pd.read_csv('/home/shreyas_204/Downloads/a1_data/a1_d1.csv', header=None)\n",
    "data"
   ]
  },
  {
   "cell_type": "code",
   "execution_count": 252,
   "metadata": {},
   "outputs": [],
   "source": [
    "X_data = []\n",
    "Y_data = []\n",
    "positive = []\n",
    "negative = []\n",
    "\n",
    "\n",
    "x, y = data.shape\n",
    "for i in range(x):\n",
    "    d = data.iloc[i][:2]\n",
    "    t = data.iloc[i][2]\n",
    "    X_data.append(d)\n",
    "    Y_data.append(t)\n",
    "    if t==1:\n",
    "        positive.append(d)\n",
    "    else:\n",
    "        negative.append(d)\n",
    "    \n",
    "X_data = np.array(X_data, dtype='float32')\n",
    "Y_data = np.array(Y_data, dtype='int32')\n",
    "positive = np.array(positive, dtype='float32')\n",
    "negative = np.array(negative, dtype='float32')"
   ]
  },
  {
   "cell_type": "code",
   "execution_count": 253,
   "metadata": {
    "scrolled": true
   },
   "outputs": [],
   "source": [
    "mean_p = np.mean(positive, axis=0)\n",
    "mean_n = np.mean(negative, axis=0)\n",
    "diff = abs(mean_p - mean_n)"
   ]
  },
  {
   "cell_type": "code",
   "execution_count": 254,
   "metadata": {},
   "outputs": [],
   "source": [
    "x, y = positive.shape\n",
    "s1 = np.zeros((y, y))\n",
    "\n",
    "for i in range(x):\n",
    "    a = positive[i] - mean_p\n",
    "    b = a.reshape(y, 1)\n",
    "    a = a.reshape(1, y)\n",
    "    s1 = s1 + np.dot(b, a)"
   ]
  },
  {
   "cell_type": "code",
   "execution_count": 255,
   "metadata": {},
   "outputs": [],
   "source": [
    "x, y = negative.shape\n",
    "s2 = np.zeros((y, y))\n",
    "\n",
    "for i in range(x):\n",
    "    a = negative[i] - mean_n\n",
    "    b = a.reshape(y, 1)\n",
    "    a = a.reshape(1, y)\n",
    "    s2 = s2 + np.dot(b, a)"
   ]
  },
  {
   "cell_type": "code",
   "execution_count": 256,
   "metadata": {},
   "outputs": [],
   "source": [
    "s = s1 + s2\n",
    "s = np.linalg.inv(s)\n",
    "diff.resize(y, 1)\n",
    "final = np.dot(s, diff)"
   ]
  },
  {
   "cell_type": "code",
   "execution_count": 257,
   "metadata": {
    "scrolled": false
   },
   "outputs": [
    {
     "data": {
      "image/png": "[encoded data removed]",
      "text/plain": [
       "<Figure size 432x288 with 1 Axes>"
      ]
     },
     "metadata": {},
     "output_type": "display_data"
    }
   ],
   "source": [
    "plt.style.use('ggplot')\n",
    "\n",
    "plt.scatter(positive[:, 0], positive[:, 1])\n",
    "plt.scatter(negative[:, 0], negative[:, 1])\n",
    "\n",
    "plt.plot(g, (final[1]/final[0])*g - 200, '-g')\n",
    "\n",
    "plt.xlim(-8, 8)\n",
    "plt.ylim(-8, 8)\n",
    "plt.show()"
   ]
  },
  {
   "cell_type": "code",
   "execution_count": 258,
   "metadata": {},
   "outputs": [],
   "source": [
    "slope = -(final[0]/final[1])\n",
    "new_positive = []\n",
    "x, y = positive.shape\n",
    "for i in range(x):\n",
    "    d = positive[i][1] - slope*positive[i][0]   \n",
    "    X = -slope*((d-140)/(slope**2 + 1))\n",
    "    Y = (-140*(slope**2) + 2*d*(slope**2) + d)/(slope**2 + 1)\n",
    "    new_positive.append([X[0], Y[0]])\n",
    "    \n",
    "new_positive = np.array(new_positive)\n",
    "\n",
    "slope = -(final[0]/final[1])\n",
    "new_negative = []\n",
    "x, y = negative.shape\n",
    "for i in range(x):\n",
    "    d = negative[i][1] - slope*negative[i][0]\n",
    "    X = -slope*((d-140)/(slope**2 + 1))\n",
    "    Y = (-140*(slope**2) + 2*d*(slope**2) + d)/(slope**2 + 1)\n",
    "    new_negative.append([X[0], Y[0]])\n",
    "    \n",
    "new_negative = np.array(new_negative)\n",
    "\n",
    "p1, q1 = np.mean(new_positive, axis=0)\n",
    "p2, q2 = np.mean(new_negative, axis=0)\n",
    "p = (p1 + p2)/2\n",
    "q = (q1 + q2)/2"
   ]
  },
  {
   "cell_type": "code",
   "execution_count": 259,
   "metadata": {
    "scrolled": true
   },
   "outputs": [
    {
     "data": {
      "image/png": "[encoded data removed]",
      "text/plain": [
       "<Figure size 432x288 with 1 Axes>"
      ]
     },
     "metadata": {},
     "output_type": "display_data"
    }
   ],
   "source": [
    "plt.scatter(positive[:, 0], positive[:, 1])\n",
    "plt.scatter(negative[:, 0], negative[:, 1])\n",
    "plt.scatter(new_positive[:, 0], new_positive[:, 1])\n",
    "plt.scatter(new_negative[:, 0], new_negative[:, 1])\n",
    "\n",
    "plt.scatter(p, q, color='blue')\n",
    "\n",
    "plt.plot(g, (final[1]/final[0])*g - 200, '-g')\n",
    "\n",
    "plt.xlim(-8, 8)\n",
    "plt.ylim(-8, 8)\n",
    "plt.show()"
   ]
  },
  {
   "cell_type": "code",
   "execution_count": 260,
   "metadata": {},
   "outputs": [],
   "source": [
    "truepos = 0\n",
    "trueneg = 0\n",
    "# negatives classified as positives\n",
    "falsepos = 0\n",
    "# positives classified as negatives\n",
    "falseneg = 0\n",
    "\n",
    "x, y = new_positive.shape\n",
    "for i in range(x):\n",
    "    if new_positive[i][1] > q:\n",
    "        truepos = truepos + 1\n",
    "    else:\n",
    "        falseneg = falseneg + 1\n",
    "        \n",
    "x, y = new_negative.shape\n",
    "for i in range(x):\n",
    "    if new_negative[i][1] < q:\n",
    "        trueneg = trueneg + 1\n",
    "    else:\n",
    "        falsepos = falsepos + 1"
   ]
  },
  {
   "cell_type": "code",
   "execution_count": 261,
   "metadata": {},
   "outputs": [],
   "source": [
    "pre1 = truepos / (truepos + falsepos)\n",
    "pre2 = trueneg / (trueneg + falseneg)"
   ]
  },
  {
   "cell_type": "code",
   "execution_count": 262,
   "metadata": {},
   "outputs": [],
   "source": [
    "rec1 = truepos / (truepos + falseneg)\n",
    "rec2 = trueneg / (trueneg + falsepos)"
   ]
  },
  {
   "cell_type": "code",
   "execution_count": 263,
   "metadata": {},
   "outputs": [
    {
     "data": {
      "text/plain": [
       "(0.99, 98.9)"
      ]
     },
     "execution_count": 263,
     "metadata": {},
     "output_type": "execute_result"
    }
   ],
   "source": [
    "fscore1 = (2*pre1*rec1)/(pre1 + rec1)\n",
    "fscore2 = (2*pre2*rec2)/(pre2 + rec2)\n",
    "fscore = (f1 + f2)/2\n",
    "fscore, accuracy"
   ]
  },
  {
   "cell_type": "code",
   "execution_count": null,
   "metadata": {},
   "outputs": [],
   "source": []
  }
 ],
 "metadata": {
  "kernelspec": {
   "display_name": "TensorFlow-GPU",
   "language": "python",
   "name": "tf-gpu"
  },
  "language_info": {
   "codemirror_mode": {
    "name": "ipython",
    "version": 3
   },
   "file_extension": ".py",
   "mimetype": "text/x-python",
   "name": "python",
   "nbconvert_exporter": "python",
   "pygments_lexer": "ipython3",
   "version": "3.7.6"
  }
 },
 "nbformat": 4,
 "nbformat_minor": 4
}
