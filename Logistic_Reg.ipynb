{
 "cells": [
  {
   "cell_type": "code",
   "execution_count": 50,
   "metadata": {},
   "outputs": [],
   "source": [
    "import numpy as np\n",
    "import matplotlib.pyplot as plt\n",
    "%matplotlib inline\n",
    "\n",
    "#importing original dataset\n",
    "data_orig = np.loadtxt('a2_data/data_banknote_authentication.txt', delimiter=',')"
   ]
  },
  {
   "cell_type": "code",
   "execution_count": 59,
   "metadata": {},
   "outputs": [
    {
     "name": "stdout",
     "output_type": "stream",
     "text": [
      "Dataset : \n",
      "\n",
      "[[ -1.8584    7.886    -1.6643   -1.8384    0.     ]\n",
      " [ -2.5754   -5.6574    6.103     0.65214   1.     ]\n",
      " [ -3.0061  -12.2377   11.9552   -2.1603    1.     ]\n",
      " ...\n",
      " [ -0.7869    9.5663   -3.7867   -7.5034    0.     ]\n",
      " [ -2.1674    0.12415  -1.0465   -0.86208   1.     ]\n",
      " [  2.9742    8.96     -2.9024   -1.0379    0.     ]]\n",
      "\n",
      "Dimensions of dataset : (1372, 5)\n"
     ]
    }
   ],
   "source": [
    "#Dataset : \n",
    "\n",
    "print(\"Dataset : \\n\\n\"+ str(data_orig))\n",
    "print(\"\\nDimensions of dataset : \"+str(data_orig.shape))"
   ]
  },
  {
   "cell_type": "code",
   "execution_count": 79,
   "metadata": {},
   "outputs": [],
   "source": [
    "#Seed for np.random\n",
    "seed=1\n",
    "np.random.seed(seed)    "
   ]
  },
  {
   "cell_type": "code",
   "execution_count": 80,
   "metadata": {},
   "outputs": [],
   "source": [
    "#Shuffling imported original dataset\n",
    "np.random.shuffle(data_orig)  "
   ]
  },
  {
   "cell_type": "code",
   "execution_count": 97,
   "metadata": {},
   "outputs": [
    {
     "name": "stdout",
     "output_type": "stream",
     "text": [
      "Shuffled dataset with (Seed 1) :\n",
      "\n",
      "[[ 3.6216   8.6661  -2.8073  -0.44699  0.     ]\n",
      " [ 1.6799   4.2068  -4.5398  -2.3931   1.     ]\n",
      " [-2.1652   3.0211  -2.4132  -2.4241   1.     ]\n",
      " ...\n",
      " [-0.16682  5.8974   0.49839 -0.70044  0.     ]\n",
      " [ 3.8027   0.81529  2.1041   1.0245   0.     ]\n",
      " [ 1.4378   0.66837 -2.0267   1.0271   1.     ]]\n"
     ]
    }
   ],
   "source": [
    "#Shuffled dataset\n",
    "print(\"Shuffled dataset with (Seed \"+str(seed) +\") :\\n\\n\"+str(data_orig))"
   ]
  },
  {
   "cell_type": "code",
   "execution_count": 71,
   "metadata": {},
   "outputs": [
    {
     "name": "stdout",
     "output_type": "stream",
     "text": [
      "Output Y   :[1. 0. 0. ... 0. 1. 1.]\n",
      "Shape of Y : (1372,)\n"
     ]
    }
   ],
   "source": [
    "#Extacting Y\n",
    "y_orig = data_orig[:,-1]\n",
    "print(\"Output Y   :\"+str(y_orig))\n",
    "print(\"Shape of Y : \"+str(y_orig.shape))"
   ]
  },
  {
   "cell_type": "code",
   "execution_count": 113,
   "metadata": {},
   "outputs": [
    {
     "name": "stdout",
     "output_type": "stream",
     "text": [
      "Shape of Y: (1, 1372)\n"
     ]
    }
   ],
   "source": [
    "#Getting rid of Rank 1 array\n",
    "Y = np.reshape(y_orig,(y_orig.shape[0],1)).T    \n",
    "print(\"Shape of Y: \"+ str(Y.shape))"
   ]
  },
  {
   "cell_type": "code",
   "execution_count": 114,
   "metadata": {},
   "outputs": [
    {
     "name": "stdout",
     "output_type": "stream",
     "text": [
      "Input set : \n",
      "\n",
      "[[ 3.6216   1.6799  -2.1652  ... -0.16682  3.8027   1.4378 ]\n",
      " [ 8.6661   4.2068   3.0211  ...  5.8974   0.81529  0.66837]\n",
      " [-2.8073  -4.5398  -2.4132  ...  0.49839  2.1041  -2.0267 ]\n",
      " [-0.44699 -2.3931  -2.4241  ... -0.70044  1.0245   1.0271 ]]\n"
     ]
    }
   ],
   "source": [
    "#Extracting vectorized input feature X (transposed)\n",
    "x_shuffled = data_orig[:,(0,1,2,3)].T\n",
    "print(\"Input set : \\n\\n\" +str(x_shuffled))"
   ]
  },
  {
   "cell_type": "code",
   "execution_count": 115,
   "metadata": {},
   "outputs": [
    {
     "name": "stdout",
     "output_type": "stream",
     "text": [
      "Mean of each row : \n",
      "\n",
      "[[ 0.43373526]\n",
      " [ 1.92235312]\n",
      " [ 1.39762712]\n",
      " [-1.19165652]]\n",
      "\n",
      "Standard deviation of each row : \n",
      "\n",
      "[[2.84172641]\n",
      " [5.86690749]\n",
      " [4.30845909]\n",
      " [2.10024732]]\n",
      "\n",
      "Input set : \n",
      "\n",
      "[[ 1.12180565  0.43852383 -0.9145621  ... -0.21133465  1.18553452\n",
      "   0.35332914]\n",
      " [ 1.14945512  0.38937837  0.18727871 ...  0.677537   -0.1886962\n",
      "  -0.21373835]\n",
      " [-0.97597007 -1.37808599 -0.88449885 ... -0.20871432  0.16397345\n",
      "  -0.7947916 ]\n",
      " [ 0.35456135 -0.57204857 -0.58680874 ...  0.23388508  1.05518836\n",
      "   1.05642631]]\n"
     ]
    }
   ],
   "source": [
    "#Standardizeing input vector X\n",
    "\n",
    "x_shuffled_mean = np.mean(x_shuffled,axis=1, keepdims=True)\n",
    "x_shuffled_std = np.std(x_shuffled, axis=1, keepdims=True)\n",
    "\n",
    "print(\"Mean of each row : \\n\\n\"+str(x_shuffled_mean))\n",
    "print(\"\\nStandard deviation of each row : \\n\\n\"+str(x_shuffled_std))\n",
    "\n",
    "X = (x_shuffled - x_shuffled_mean)/x_shuffled_std   #Python Broadcasting\n",
    "print(\"\\nInput set : \\n\\n\"+str(X))"
   ]
  },
  {
   "cell_type": "code",
   "execution_count": 116,
   "metadata": {},
   "outputs": [
    {
     "name": "stdout",
     "output_type": "stream",
     "text": [
      "(4, 1372)\n"
     ]
    }
   ],
   "source": [
    "print(X.shape)"
   ]
  },
  {
   "cell_type": "code",
   "execution_count": 127,
   "metadata": {},
   "outputs": [
    {
     "name": "stdout",
     "output_type": "stream",
     "text": [
      "\n",
      "-----------------\n",
      "Input: \n",
      "\n",
      "[[ 1.12180565  0.43852383 -0.9145621  ... -0.21133465  1.18553452\n",
      "   0.35332914]\n",
      " [ 1.14945512  0.38937837  0.18727871 ...  0.677537   -0.1886962\n",
      "  -0.21373835]\n",
      " [-0.97597007 -1.37808599 -0.88449885 ... -0.20871432  0.16397345\n",
      "  -0.7947916 ]\n",
      " [ 0.35456135 -0.57204857 -0.58680874 ...  0.23388508  1.05518836\n",
      "   1.05642631]]\n",
      "\n",
      "Shape : (4, 1372)\n",
      "\n",
      "------------------\n",
      "\n",
      "Output: \n",
      "\n",
      "[[0. 1. 1. ... 0. 0. 1.]]\n",
      "\n",
      "Shape : (1, 1372)\n"
     ]
    }
   ],
   "source": [
    "#Data set now\n",
    "print(\"\\n-----------------\\nInput: \\n\\n\"+str(X))\n",
    "print(\"\\nShape : \"+str(X.shape))\n",
    "print(\"\\n------------------\\n\\nOutput: \\n\\n\"+str(Y))\n",
    "print(\"\\nShape : \"+str(Y.shape))"
   ]
  },
  {
   "cell_type": "code",
   "execution_count": 137,
   "metadata": {},
   "outputs": [
    {
     "name": "stdout",
     "output_type": "stream",
     "text": [
      "Seed of Randomization : 1\n",
      "Shape of Training set : (4, 1097)\n",
      "Shape of Test set     : (4, 275)\n"
     ]
    }
   ],
   "source": [
    "#Splitting into Train, Test sets ( with a fixed seed )\n",
    "train_split_percent = 80\n",
    "test_split_percent = 20\n",
    "\n",
    "train_X , test_X = X[:, : int( (train_split_percent/100)*X.shape[1])] , X[:,int( (train_split_percent/100)*X.shape[1]) : ]\n",
    "print(\"Seed of Randomization : \"+str(seed))\n",
    "print(\"Shape of Training set : \"+str(train_X.shape))\n",
    "print(\"Shape of Test set     : \"+str(test_X.shape))"
   ]
  },
  {
   "cell_type": "code",
   "execution_count": 32,
   "metadata": {},
   "outputs": [],
   "source": [
    "import matplotlib.pyplot as plt\n",
    "v"
   ]
  },
  {
   "cell_type": "code",
   "execution_count": null,
   "metadata": {},
   "outputs": [],
   "source": []
  },
  {
   "cell_type": "code",
   "execution_count": null,
   "metadata": {},
   "outputs": [],
   "source": []
  },
  {
   "cell_type": "code",
   "execution_count": null,
   "metadata": {},
   "outputs": [],
   "source": []
  }
 ],
 "metadata": {
  "kernelspec": {
   "display_name": "Python 3",
   "language": "python",
   "name": "python3"
  },
  "language_info": {
   "codemirror_mode": {
    "name": "ipython",
    "version": 3
   },
   "file_extension": ".py",
   "mimetype": "text/x-python",
   "name": "python",
   "nbconvert_exporter": "python",
   "pygments_lexer": "ipython3",
   "version": "3.7.4"
  }
 },
 "nbformat": 4,
 "nbformat_minor": 4
}
