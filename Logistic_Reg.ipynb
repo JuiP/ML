{
 "cells": [
  {
   "cell_type": "code",
   "execution_count": 417,
   "metadata": {},
   "outputs": [],
   "source": [
    "import numpy as np\n",
    "import pandas as pd\n",
    "from IPython.display import display, HTML\n",
    "import matplotlib.pyplot as plt\n",
    "import time\n",
    "%matplotlib inline\n",
    "\n",
    "#importing original dataset\n",
    "data_orig = np.loadtxt('data/data_banknote_authentication.txt', delimiter=',')"
   ]
  },
  {
   "cell_type": "code",
   "execution_count": 418,
   "metadata": {},
   "outputs": [
    {
     "name": "stdout",
     "output_type": "stream",
     "text": [
      "Dataset : \n",
      "\n",
      "[[  3.6216    8.6661   -2.8073   -0.44699   0.     ]\n",
      " [  4.5459    8.1674   -2.4586   -1.4621    0.     ]\n",
      " [  3.866    -2.6383    1.9242    0.10645   0.     ]\n",
      " ...\n",
      " [ -3.7503  -13.4586   17.5932   -2.7771    1.     ]\n",
      " [ -3.5637   -8.3827   12.393    -1.2823    1.     ]\n",
      " [ -2.5419   -0.65804   2.6842    1.1952    1.     ]]\n",
      "\n",
      "Dimensions of dataset : (1372, 5)\n"
     ]
    }
   ],
   "source": [
    "#Dataset : \n",
    "\n",
    "print(\"Dataset : \\n\\n\"+ str(data_orig))\n",
    "print(\"\\nDimensions of dataset : \"+str(data_orig.shape))"
   ]
  },
  {
   "cell_type": "code",
   "execution_count": 419,
   "metadata": {},
   "outputs": [],
   "source": [
    "#Seed for np.random\n",
    "seed=4\n",
    "np.random.seed(seed)    "
   ]
  },
  {
   "cell_type": "code",
   "execution_count": 420,
   "metadata": {},
   "outputs": [],
   "source": [
    "#Shuffling imported original dataset\n",
    "np.random.shuffle(data_orig)  "
   ]
  },
  {
   "cell_type": "code",
   "execution_count": 421,
   "metadata": {},
   "outputs": [
    {
     "name": "stdout",
     "output_type": "stream",
     "text": [
      "Shuffled dataset with (Seed 4) :\n",
      "\n",
      "[[  0.64295   7.1018    0.3493   -0.41337   0.     ]\n",
      " [  2.3066    3.5364    0.57551   0.41938   0.     ]\n",
      " [ -3.5741    3.944    -0.07912  -2.1203    1.     ]\n",
      " ...\n",
      " [  4.7285    2.1065   -0.28305   1.5625    0.     ]\n",
      " [  1.8799    2.4707    2.4931    0.37671   0.     ]\n",
      " [ -3.73    -12.9723   12.9817   -2.684     1.     ]]\n"
     ]
    }
   ],
   "source": [
    "#Shuffled dataset\n",
    "print(\"Shuffled dataset with (Seed \"+str(seed) +\") :\\n\\n\"+str(data_orig))"
   ]
  },
  {
   "cell_type": "code",
   "execution_count": 422,
   "metadata": {},
   "outputs": [
    {
     "name": "stdout",
     "output_type": "stream",
     "text": [
      "Output Y   :[0. 0. 1. ... 0. 0. 1.]\n",
      "Shape of Y : (1372,)\n",
      "Number of 0s : 762.0\n",
      "Number of 1s : 610.0\n"
     ]
    }
   ],
   "source": [
    "#Extacting Y\n",
    "y_orig = data_orig[:,-1]\n",
    "print(\"Output Y   :\"+str(y_orig))\n",
    "print(\"Shape of Y : \"+str(y_orig.shape))\n",
    "print(\"Number of 0s : \"+str(y_orig.shape[0]-np.sum(y_orig)))\n",
    "print(\"Number of 1s : \"+str(np.sum(y_orig)))"
   ]
  },
  {
   "cell_type": "code",
   "execution_count": 423,
   "metadata": {},
   "outputs": [
    {
     "name": "stdout",
     "output_type": "stream",
     "text": [
      "Shape of Y: (1, 1372)\n"
     ]
    }
   ],
   "source": [
    "#Getting rid of Rank 1 array\n",
    "Y = np.reshape(y_orig,(y_orig.shape[0],1)).T    \n",
    "print(\"Shape of Y: \"+ str(Y.shape))"
   ]
  },
  {
   "cell_type": "code",
   "execution_count": 424,
   "metadata": {},
   "outputs": [
    {
     "name": "stdout",
     "output_type": "stream",
     "text": [
      "Input set : \n",
      "\n",
      "[[  0.64295   2.3066   -3.5741  ...   4.7285    1.8799   -3.73   ]\n",
      " [  7.1018    3.5364    3.944   ...   2.1065    2.4707  -12.9723 ]\n",
      " [  0.3493    0.57551  -0.07912 ...  -0.28305   2.4931   12.9817 ]\n",
      " [ -0.41337   0.41938  -2.1203  ...   1.5625    0.37671  -2.684  ]]\n"
     ]
    }
   ],
   "source": [
    "#Extracting vectorized input feature X (transposed)\n",
    "x_shuffled = data_orig[:,(0,1,2,3)].T\n",
    "print(\"Input set : \\n\\n\" +str(x_shuffled))"
   ]
  },
  {
   "cell_type": "code",
   "execution_count": 425,
   "metadata": {},
   "outputs": [
    {
     "name": "stdout",
     "output_type": "stream",
     "text": [
      "(4, 1372)\n"
     ]
    }
   ],
   "source": [
    "print(x_shuffled.shape)"
   ]
  },
  {
   "cell_type": "code",
   "execution_count": 426,
   "metadata": {},
   "outputs": [],
   "source": [
    "def standardize(x):\n",
    "    \n",
    "    x_mean = np.mean(x,axis=1, keepdims=True)\n",
    "    x_std = np.std(x, axis=1, keepdims=True)\n",
    "\n",
    "    X = (x - x_mean)  #Python Broadcasting\n",
    "    X = X/x_std\n",
    "    \n",
    "    return X"
   ]
  },
  {
   "cell_type": "code",
   "execution_count": 427,
   "metadata": {},
   "outputs": [
    {
     "name": "stdout",
     "output_type": "stream",
     "text": [
      "Standardizd Input X : \n",
      "\n",
      "[[ 0.07362241  0.65905878 -1.41035226 ...  1.51132239  0.50890358\n",
      "  -1.46521328]\n",
      " [ 0.88282402  0.27511033  0.34458475 ...  0.03138738  0.09346438\n",
      "  -2.53875711]\n",
      " [-0.24331834 -0.19081465 -0.34275528 ... -0.39008775  0.25426095\n",
      "   2.68868118]\n",
      " [ 0.37056899  0.76706991 -0.44215911 ...  1.31134866  0.74675325\n",
      "  -0.71055607]]\n",
      "\n",
      "Means of features              : \n",
      "[[-1.81260902e-17]\n",
      " [ 5.95571535e-17]\n",
      " [ 1.16524866e-17]\n",
      " [-4.66099462e-17]]\n",
      "\n",
      "Standard Deviation of features : \n",
      "[[1.]\n",
      " [1.]\n",
      " [1.]\n",
      " [1.]]\n"
     ]
    }
   ],
   "source": [
    "#Standardizing shuffled input X\n",
    "X = standardize(x_shuffled)\n",
    "print(\"Standardizd Input X : \\n\\n\"+str(X))\n",
    "print(\"\\nMeans of features              : \\n\"+str(np.mean(X,axis=1,keepdims=True)))\n",
    "print(\"\\nStandard Deviation of features : \\n\"+str(np.std(X,axis=1,keepdims=True)))"
   ]
  },
  {
   "cell_type": "code",
   "execution_count": 428,
   "metadata": {},
   "outputs": [
    {
     "name": "stdout",
     "output_type": "stream",
     "text": [
      "Distribution feature 1 :\n"
     ]
    },
    {
     "data": {
      "text/plain": [
       "<matplotlib.axes._subplots.AxesSubplot at 0x2708ffba308>"
      ]
     },
     "execution_count": 428,
     "metadata": {},
     "output_type": "execute_result"
    },
    {
     "data": {
      "image/png": "[encoded data removed]",
      "text/plain": [
       "<Figure size 432x288 with 1 Axes>"
      ]
     },
     "metadata": {},
     "output_type": "display_data"
    }
   ],
   "source": [
    "#Visualization\n",
    "import seaborn as sns\n",
    "sns.set(color_codes=True)\n",
    "print(\"Distribution feature 1 :\")\n",
    "#sns.distplot(x_shuffled[0,:]);\n",
    "sns.distplot(X[0,:])"
   ]
  },
  {
   "cell_type": "code",
   "execution_count": 429,
   "metadata": {},
   "outputs": [
    {
     "name": "stdout",
     "output_type": "stream",
     "text": [
      "Seed of Randomization   : 4\n",
      "\n",
      "Shape of Training set X : (4, 1097)\n",
      "Shape of Training set Y : (1, 1097)\n",
      "\n",
      "Shape of Test set   X   : (4, 275)\n",
      "Shape of Test set Y     : (1, 275)\n"
     ]
    }
   ],
   "source": [
    "#Splitting into Train, Test sets ( with a fixed seed )\n",
    "train_split_percent = 80\n",
    "test_split_percent = 20\n",
    "\n",
    "train_X , test_X = X[:, : int( (train_split_percent/100)*X.shape[1])] , X[:,int( (train_split_percent/100)*X.shape[1]) : ]\n",
    "train_Y , test_Y = Y[:, : int( (train_split_percent/100)*X.shape[1])] , Y[:,int( (train_split_percent/100)*X.shape[1]) : ]\n",
    "print(\"Seed of Randomization   : \"+str(seed))\n",
    "print(\"\\nShape of Training set X : \"+str(train_X.shape))\n",
    "print(\"Shape of Training set Y : \"+str(train_Y.shape))\n",
    "print(\"\\nShape of Test set   X   : \"+str(test_X.shape))\n",
    "print(\"Shape of Test set Y     : \"+str(test_Y.shape))"
   ]
  },
  {
   "cell_type": "code",
   "execution_count": 430,
   "metadata": {},
   "outputs": [
    {
     "data": {
      "text/plain": [
       "<matplotlib.axes._subplots.AxesSubplot at 0x2709003c6c8>"
      ]
     },
     "execution_count": 430,
     "metadata": {},
     "output_type": "execute_result"
    },
    {
     "data": {
      "image/png": "[encoded data removed]",
      "text/plain": [
       "<Figure size 432x288 with 1 Axes>"
      ]
     },
     "metadata": {},
     "output_type": "display_data"
    }
   ],
   "source": [
    "sns.distplot(X[0,:],hist=False)\n",
    "sns.distplot(train_X[0,:],hist=False)\n",
    "sns.distplot(test_X[0,:],hist=False)"
   ]
  },
  {
   "cell_type": "code",
   "execution_count": 431,
   "metadata": {},
   "outputs": [
    {
     "name": "stdout",
     "output_type": "stream",
     "text": [
      "No of training examples : 1097\n",
      "No of test example      : 275\n"
     ]
    }
   ],
   "source": [
    "m_train = train_X.shape[1]   #no. of training examples\n",
    "m_test  = test_X.shape[1]    #no. of test examples\n",
    "print(\"No of training examples : \"+str(m_train))\n",
    "print(\"No of test example      : \"+str(m_test))"
   ]
  },
  {
   "cell_type": "code",
   "execution_count": 432,
   "metadata": {},
   "outputs": [
    {
     "name": "stdout",
     "output_type": "stream",
     "text": [
      "Standardize train_X : (4, 1097)\n",
      "\n",
      "[[ 0.07362241  0.65905878 -1.41035226 ... -0.4252152   0.6923484\n",
      "   0.047786  ]\n",
      " [ 0.88282402  0.27511033  0.34458475 ... -0.64755634 -0.05114332\n",
      "   0.97275215]\n",
      " [-0.24331834 -0.19081465 -0.34275528 ...  0.23318613  0.37915479\n",
      "   0.04126136]\n",
      " [ 0.37056899  0.76706991 -0.44215911 ...  1.10632519  0.90867704\n",
      "  -0.96733535]]\n",
      "\n",
      "Means of features              : \n",
      "[[ 0.01023727]\n",
      " [-0.01043503]\n",
      " [ 0.00669346]\n",
      " [ 0.01474598]]\n",
      "\n",
      "Standard Deviation of features : \n",
      "[[1.01471405]\n",
      " [1.00779034]\n",
      " [1.01057318]\n",
      " [0.99252921]]\n",
      "\n",
      "\n",
      "Standardize test_X : (4, 275)\n",
      "\n",
      "[[-0.33145177  1.40610466  0.65297093 ...  1.51132239  0.50890358\n",
      "  -1.46521328]\n",
      " [ 0.16118319 -0.72833143  0.30862032 ...  0.03138738  0.09346438\n",
      "  -2.53875711]\n",
      " [-0.74468088  0.0712953  -0.17788892 ... -0.39008775  0.25426095\n",
      "   2.68868118]\n",
      " [-0.50924644  1.00041385  0.37795383 ...  1.31134866  0.74675325\n",
      "  -0.71055607]]\n"
     ]
    }
   ],
   "source": [
    "#train_X = standardize(train_X)\n",
    "print(\"Standardize train_X : \"+str(train_X.shape)+\"\\n\\n\"+str(train_X))\n",
    "print(\"\\nMeans of features              : \\n\"+str(np.mean(train_X,axis=1,keepdims=True)))\n",
    "print(\"\\nStandard Deviation of features : \\n\"+str(np.std(train_X,axis=1,keepdims=True)))\n",
    "#test_X  = standardize(test_X)\n",
    "print(\"\\n\\nStandardize test_X : \"+str(test_X.shape)+\"\\n\\n\"+str(test_X))"
   ]
  },
  {
   "cell_type": "code",
   "execution_count": 433,
   "metadata": {},
   "outputs": [],
   "source": [
    "# Starting with our problem now"
   ]
  },
  {
   "cell_type": "code",
   "execution_count": 434,
   "metadata": {},
   "outputs": [],
   "source": [
    "#First programming all helper function then will integrate the function"
   ]
  },
  {
   "cell_type": "code",
   "execution_count": 435,
   "metadata": {},
   "outputs": [],
   "source": [
    "def sigmoid(Z):\n",
    "    sigz= 1/(1+np.exp(-Z))\n",
    "    sigz[sigz==1] = 0.999999999999\n",
    "    sigz[sigz==0] = 0.000000000001\n",
    "    return sigz    "
   ]
  },
  {
   "cell_type": "code",
   "execution_count": 436,
   "metadata": {},
   "outputs": [
    {
     "name": "stdout",
     "output_type": "stream",
     "text": [
      "w : [0. 0. 0. ... 0. 0. 0.]\n",
      "b : 0\n"
     ]
    }
   ],
   "source": [
    "#Initializing parameters\n",
    "w, b = np.zeros(train_X.shape[1]), 0 \n",
    "print(\"w : \"+str(w))\n",
    "print(\"b : \"+str(b))"
   ]
  },
  {
   "cell_type": "code",
   "execution_count": 449,
   "metadata": {},
   "outputs": [],
   "source": [
    "def calculate(w,b,X,Y):\n",
    "    m = X.shape[1]\n",
    "   #Vectorized Implementation\n",
    "    A = sigmoid(np.dot(w.T,X)+b)\n",
    "    \n",
    "    #Average of loss over m examples \n",
    "    cost = (-1/m)*np.sum(np.multiply(Y,np.log(A))+np.multiply(1-Y,np.log(1-A)))\n",
    "    \n",
    "    L2_cost = lambd2*(np.sum(np.square(w)))/(2*m)\n",
    "    L1_cost = lambd1*(np.sum(np.abs(w)))/m\n",
    "    cost = cost + L2_cost + L1_cost\n",
    "    cost = np.squeeze(cost) \n",
    "    \n",
    "    #Gradient\n",
    "    w_temp=np.sign(w)\n",
    "    \n",
    "    l1_grad = (lambd1/m)*w_temp\n",
    "    \n",
    "    dw = (1/m)*np.dot(X,(A-Y).T) + (lambd2/m)*w  + l1_grad\n",
    "    db = (1/m)*np.sum(A-Y)\n",
    "    \n",
    "    grads = { 'dw':dw, 'db':db}\n",
    "    \n",
    "    return cost, grads"
   ]
  },
  {
   "cell_type": "code",
   "execution_count": 438,
   "metadata": {},
   "outputs": [],
   "source": [
    "def gradient_descent(w, b, X, Y, num_iterations, alpha, print_cost = False, print_after=100):\n",
    "    \n",
    "    costs = []\n",
    "    for i in range(num_iterations):  \n",
    "         \n",
    "        alpha_decayed = alpha/(1+decay_rate*i)     \n",
    "        cost, grads = calculate(w, b, X, Y)\n",
    "        dw = grads['dw']\n",
    "        db = grads['db']\n",
    "        w = w-alpha_decayed*dw\n",
    "        b = b-alpha_decayed*db\n",
    "    \n",
    "        if i%1000 ==0:\n",
    "            costs.append(cost)\n",
    "        if print_cost and i % print_after == 0:\n",
    "            print (\"Cost after iteration %i: %f\" %(i, cost))\n",
    "            \n",
    "    parameters = {\"w\": w, \"b\": b}\n",
    "    gradients = {\"dw\": dw, \"db\": db}\n",
    "    \n",
    "    return parameters, gradients, costs      \n",
    "  "
   ]
  },
  {
   "cell_type": "code",
   "execution_count": 439,
   "metadata": {},
   "outputs": [],
   "source": [
    "def predict(w, b, X):\n",
    "    m= X.shape[1]\n",
    "    Y_prediction = np.zeros((1,m))\n",
    "    \n",
    "    A=sigmoid(np.dot(w.T,X)+b)\n",
    "    assert(A.shape==(1,m))\n",
    "    \n",
    "    for i in range(A.shape[1]):\n",
    "          Y_prediction[0, i] = 1 if A[0, i] > 0.5 else 0\n",
    "            \n",
    "    assert(Y_prediction.shape == (1, m))\n",
    "    \n",
    "    return Y_prediction"
   ]
  },
  {
   "cell_type": "code",
   "execution_count": 440,
   "metadata": {},
   "outputs": [],
   "source": [
    "def evaluate(Y,Yhat,Set):\n",
    "    spos=0\n",
    "    \n",
    "    for i in range(Y.shape[1]): \n",
    "        if Y[0,i]==1 and Yhat[0,i]==1:\n",
    "            spos = spos+1\n",
    "            \n",
    "    p = spos /np.sum(Yhat == 1)\n",
    "    r = spos/ np.sum( Y == 1)\n",
    "    acc = np.mean(Y == Yhat)\n",
    "    f1score = 2*p*r/(p+r)\n",
    "    \n",
    "    data = [{'Precision': p, 'Recall': r, 'Accuracy': acc,'F-score': f1score}] \n",
    "    df = pd.DataFrame(data)\n",
    "    \n",
    "    print(\"\\n\"+Set+\":\")\n",
    "    display(df)\n",
    "    \n",
    "    return"
   ]
  },
  {
   "cell_type": "code",
   "execution_count": 441,
   "metadata": {},
   "outputs": [],
   "source": [
    "def model(train_X, train_Y, test_X, test_Y, num_iterations = 2000, learning_rate = 0.5, print_cost = False,print_after=100):\n",
    "\n",
    "    w, b = np.zeros((4,1)),0\n",
    "    tic = time.time()\n",
    "    parameters, grads, costs = gradient_descent(w, b, train_X, train_Y, num_iterations, learning_rate, print_cost,print_after)\n",
    "    \n",
    "\n",
    "    w = parameters[\"w\"]\n",
    "    b = parameters[\"b\"]\n",
    "    \n",
    "\n",
    "    test_Yhat = predict(w, b, test_X)\n",
    "    train_Yhat = predict(w, b, train_X)\n",
    "    \n",
    "    toc= time.time()\n",
    "    \n",
    "    plt.plot(np.squeeze(costs))\n",
    "    plt.ylabel('cost')\n",
    "    plt.xlabel('iterations (per hundreds)')\n",
    "    plt.title(\"Learning rate =\" + str(learning_rate))\n",
    "    plt.show()\n",
    "    \n",
    "    evaluate(train_Y,train_Yhat,\"Train \")\n",
    "    evaluate(test_Y,test_Yhat,\"Test \")\n",
    "\n",
    "    time_t = (toc-tic)*1000\n",
    "    print(\"Time taken by the model : \"+str((toc-tic))+\" sec\")\n",
    "    return "
   ]
  },
  {
   "cell_type": "code",
   "execution_count": 448,
   "metadata": {},
   "outputs": [
    {
     "name": "stdout",
     "output_type": "stream",
     "text": [
      "Cost after iteration 0: 0.693147\n",
      "Cost after iteration 2000: 0.033404\n",
      "Cost after iteration 4000: 0.029088\n",
      "Cost after iteration 6000: 0.027138\n",
      "Cost after iteration 8000: 0.025962\n",
      "Cost after iteration 10000: 0.025154\n",
      "Cost after iteration 12000: 0.024557\n",
      "Cost after iteration 14000: 0.024094\n",
      "Cost after iteration 16000: 0.023721\n",
      "Cost after iteration 18000: 0.023414\n",
      "Cost after iteration 20000: 0.023156\n",
      "Cost after iteration 22000: 0.022936\n",
      "Cost after iteration 24000: 0.022746\n",
      "Cost after iteration 26000: 0.022580\n",
      "Cost after iteration 28000: 0.022434\n",
      "Cost after iteration 30000: 0.022304\n",
      "Cost after iteration 32000: 0.022188\n",
      "Cost after iteration 34000: 0.022084\n"
     ]
    },
    {
     "data": {
      "image/png": "[encoded data removed]",
      "text/plain": [
       "<Figure size 432x288 with 1 Axes>"
      ]
     },
     "metadata": {},
     "output_type": "display_data"
    },
    {
     "name": "stdout",
     "output_type": "stream",
     "text": [
      "\n",
      "Train :\n"
     ]
    },
    {
     "data": {
      "text/html": [
       "<div>\n",
       "<style scoped>\n",
       "    .dataframe tbody tr th:only-of-type {\n",
       "        vertical-align: middle;\n",
       "    }\n",
       "\n",
       "    .dataframe tbody tr th {\n",
       "        vertical-align: top;\n",
       "    }\n",
       "\n",
       "    .dataframe thead th {\n",
       "        text-align: right;\n",
       "    }\n",
       "</style>\n",
       "<table border=\"1\" class=\"dataframe\">\n",
       "  <thead>\n",
       "    <tr style=\"text-align: right;\">\n",
       "      <th></th>\n",
       "      <th>Precision</th>\n",
       "      <th>Recall</th>\n",
       "      <th>Accuracy</th>\n",
       "      <th>F-score</th>\n",
       "    </tr>\n",
       "  </thead>\n",
       "  <tbody>\n",
       "    <tr>\n",
       "      <td>0</td>\n",
       "      <td>0.98152</td>\n",
       "      <td>0.991701</td>\n",
       "      <td>0.988149</td>\n",
       "      <td>0.986584</td>\n",
       "    </tr>\n",
       "  </tbody>\n",
       "</table>\n",
       "</div>"
      ],
      "text/plain": [
       "   Precision    Recall  Accuracy   F-score\n",
       "0    0.98152  0.991701  0.988149  0.986584"
      ]
     },
     "metadata": {},
     "output_type": "display_data"
    },
    {
     "name": "stdout",
     "output_type": "stream",
     "text": [
      "\n",
      "Test :\n"
     ]
    },
    {
     "data": {
      "text/html": [
       "<div>\n",
       "<style scoped>\n",
       "    .dataframe tbody tr th:only-of-type {\n",
       "        vertical-align: middle;\n",
       "    }\n",
       "\n",
       "    .dataframe tbody tr th {\n",
       "        vertical-align: top;\n",
       "    }\n",
       "\n",
       "    .dataframe thead th {\n",
       "        text-align: right;\n",
       "    }\n",
       "</style>\n",
       "<table border=\"1\" class=\"dataframe\">\n",
       "  <thead>\n",
       "    <tr style=\"text-align: right;\">\n",
       "      <th></th>\n",
       "      <th>Precision</th>\n",
       "      <th>Recall</th>\n",
       "      <th>Accuracy</th>\n",
       "      <th>F-score</th>\n",
       "    </tr>\n",
       "  </thead>\n",
       "  <tbody>\n",
       "    <tr>\n",
       "      <td>0</td>\n",
       "      <td>0.992248</td>\n",
       "      <td>1.0</td>\n",
       "      <td>0.996364</td>\n",
       "      <td>0.996109</td>\n",
       "    </tr>\n",
       "  </tbody>\n",
       "</table>\n",
       "</div>"
      ],
      "text/plain": [
       "   Precision  Recall  Accuracy   F-score\n",
       "0   0.992248     1.0  0.996364  0.996109"
      ]
     },
     "metadata": {},
     "output_type": "display_data"
    },
    {
     "name": "stdout",
     "output_type": "stream",
     "text": [
      "Time taken by the model : 11.049882888793945 sec\n"
     ]
    }
   ],
   "source": [
    "lambd1 = 0 \n",
    "lambd2 = 0\n",
    "\n",
    "decay_rate=0\n",
    "model(train_X, train_Y, test_X, test_Y, \n",
    "      num_iterations = 35001, learning_rate = 0.8, print_cost = True,print_after=2000)\n"
   ]
  },
  {
   "cell_type": "markdown",
   "metadata": {},
   "source": [
    "# "
   ]
  },
  {
   "cell_type": "code",
   "execution_count": null,
   "metadata": {},
   "outputs": [],
   "source": []
  },
  {
   "cell_type": "code",
   "execution_count": null,
   "metadata": {},
   "outputs": [],
   "source": []
  }
 ],
 "metadata": {
  "kernelspec": {
   "display_name": "Python 3",
   "language": "python",
   "name": "python3"
  },
  "language_info": {
   "codemirror_mode": {
    "name": "ipython",
    "version": 3
   },
   "file_extension": ".py",
   "mimetype": "text/x-python",
   "name": "python",
   "nbconvert_exporter": "python",
   "pygments_lexer": "ipython3",
   "version": "3.7.4"
  }
 },
 "nbformat": 4,
 "nbformat_minor": 4
}
