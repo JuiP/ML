{
 "cells": [
  {
   "cell_type": "code",
   "execution_count": 50,
   "metadata": {},
   "outputs": [],
   "source": [
    "import numpy as np\n",
    "import matplotlib.pyplot as plt\n",
    "%matplotlib inline\n",
    "\n",
    "#importing original dataset\n",
    "data_orig = np.loadtxt('a2_data/data_banknote_authentication.txt', delimiter=',')"
   ]
  },
  {
   "cell_type": "code",
   "execution_count": 59,
   "metadata": {},
   "outputs": [
    {
     "name": "stdout",
     "output_type": "stream",
     "text": [
      "Dataset : \n",
      "\n",
      "[[ -1.8584    7.886    -1.6643   -1.8384    0.     ]\n",
      " [ -2.5754   -5.6574    6.103     0.65214   1.     ]\n",
      " [ -3.0061  -12.2377   11.9552   -2.1603    1.     ]\n",
      " ...\n",
      " [ -0.7869    9.5663   -3.7867   -7.5034    0.     ]\n",
      " [ -2.1674    0.12415  -1.0465   -0.86208   1.     ]\n",
      " [  2.9742    8.96     -2.9024   -1.0379    0.     ]]\n",
      "\n",
      "Dimensions of dataset : (1372, 5)\n"
     ]
    }
   ],
   "source": [
    "#Dataset : \n",
    "\n",
    "print(\"Dataset : \\n\\n\"+ str(data_orig))\n",
    "print(\"\\nDimensions of dataset : \"+str(data_orig.shape))"
   ]
  },
  {
   "cell_type": "code",
   "execution_count": 79,
   "metadata": {},
   "outputs": [],
   "source": [
    "#Seed for np.random\n",
    "seed=1\n",
    "np.random.seed(seed)    "
   ]
  },
  {
   "cell_type": "code",
   "execution_count": 80,
   "metadata": {},
   "outputs": [],
   "source": [
    "#Shuffling imported original dataset\n",
    "np.random.shuffle(data_orig)  "
   ]
  },
  {
   "cell_type": "code",
   "execution_count": 97,
   "metadata": {},
   "outputs": [
    {
     "name": "stdout",
     "output_type": "stream",
     "text": [
      "Shuffled dataset with (Seed 1) :\n",
      "\n",
      "[[ 3.6216   8.6661  -2.8073  -0.44699  0.     ]\n",
      " [ 1.6799   4.2068  -4.5398  -2.3931   1.     ]\n",
      " [-2.1652   3.0211  -2.4132  -2.4241   1.     ]\n",
      " ...\n",
      " [-0.16682  5.8974   0.49839 -0.70044  0.     ]\n",
      " [ 3.8027   0.81529  2.1041   1.0245   0.     ]\n",
      " [ 1.4378   0.66837 -2.0267   1.0271   1.     ]]\n"
     ]
    }
   ],
   "source": [
    "#Shuffled dataset\n",
    "print(\"Shuffled dataset with (Seed \"+str(seed) +\") :\\n\\n\"+str(data_orig))"
   ]
  },
  {
   "cell_type": "code",
   "execution_count": 71,
   "metadata": {},
   "outputs": [
    {
     "name": "stdout",
     "output_type": "stream",
     "text": [
      "Output Y   :[1. 0. 0. ... 0. 1. 1.]\n",
      "Shape of Y : (1372,)\n"
     ]
    }
   ],
   "source": [
    "#Extacting Y\n",
    "y_orig = data_orig[:,-1]\n",
    "print(\"Output Y   :\"+str(y_orig))\n",
    "print(\"Shape of Y : \"+str(y_orig.shape))"
   ]
  },
  {
   "cell_type": "code",
   "execution_count": 113,
   "metadata": {},
   "outputs": [
    {
     "name": "stdout",
     "output_type": "stream",
     "text": [
      "Shape of Y: (1, 1372)\n"
     ]
    }
   ],
   "source": [
    "#Getting rid of Rank 1 array\n",
    "Y = np.reshape(y_orig,(y_orig.shape[0],1)).T    \n",
    "print(\"Shape of Y: \"+ str(Y.shape))"
   ]
  },
  {
   "cell_type": "code",
   "execution_count": 145,
   "metadata": {},
   "outputs": [
    {
     "name": "stdout",
     "output_type": "stream",
     "text": [
      "Input set : \n",
      "\n",
      "[[ 3.6216   1.6799  -2.1652  ... -0.16682  3.8027   1.4378 ]\n",
      " [ 8.6661   4.2068   3.0211  ...  5.8974   0.81529  0.66837]\n",
      " [-2.8073  -4.5398  -2.4132  ...  0.49839  2.1041  -2.0267 ]\n",
      " [-0.44699 -2.3931  -2.4241  ... -0.70044  1.0245   1.0271 ]]\n"
     ]
    }
   ],
   "source": [
    "#Extracting vectorized input feature X (transposed)\n",
    "x_shuffled = data_orig[:,(0,1,2,3)].T\n",
    "print(\"Input set : \\n\\n\" +str(x_shuffled))"
   ]
  },
  {
   "cell_type": "code",
   "execution_count": 147,
   "metadata": {},
   "outputs": [
    {
     "name": "stdout",
     "output_type": "stream",
     "text": [
      "(4, 1372)\n"
     ]
    }
   ],
   "source": [
    "print(x_shuffled.shape)"
   ]
  },
  {
   "cell_type": "code",
   "execution_count": 148,
   "metadata": {},
   "outputs": [
    {
     "name": "stdout",
     "output_type": "stream",
     "text": [
      "Seed of Randomization   : 1\n",
      "\n",
      "Shape of Training set X : (4, 1097)\n",
      "Shape of Training set Y : (1, 1097)\n",
      "\n",
      "Shape of Test set   X   : (4, 275)\n",
      "Shape of Test set Y     : (4, 275)\n"
     ]
    }
   ],
   "source": [
    "#Splitting into Train, Test sets ( with a fixed seed )\n",
    "train_split_percent = 80\n",
    "test_split_percent = 20\n",
    "\n",
    "train_X , test_X = X[:, : int( (train_split_percent/100)*X.shape[1])] , X[:,int( (train_split_percent/100)*X.shape[1]) : ]\n",
    "train_Y , test_Y = Y[:, : int( (train_split_percent/100)*X.shape[1])] , X[:,int( (train_split_percent/100)*X.shape[1]) : ]\n",
    "print(\"Seed of Randomization   : \"+str(seed))\n",
    "print(\"\\nShape of Training set X : \"+str(train_X.shape))\n",
    "print(\"Shape of Training set Y : \"+str(train_Y.shape))\n",
    "print(\"\\nShape of Test set   X   : \"+str(test_X.shape))\n",
    "print(\"Shape of Test set Y     : \"+str(test_Y.shape))"
   ]
  },
  {
   "cell_type": "code",
   "execution_count": 149,
   "metadata": {},
   "outputs": [
    {
     "name": "stdout",
     "output_type": "stream",
     "text": [
      "No of training examples : 1097\n",
      "No of test example      : 275\n"
     ]
    }
   ],
   "source": [
    "m_train = train_X.shape[1]\n",
    "m_test  = test_X.shape[1]\n",
    "print(\"No of training examples : \"+str(m_train))\n",
    "print(\"No of test example      : \"+str(m_test))"
   ]
  },
  {
   "cell_type": "code",
   "execution_count": 163,
   "metadata": {},
   "outputs": [],
   "source": [
    "def standardize(x):\n",
    "    \"\"\"\n",
    "    Input  :  Numpy array x \n",
    "    Output :  Numpy array of same shape as X but standardized along each rows\n",
    "    \n",
    "    \"\"\"\n",
    "    x_mean = np.mean(x,axis=1, keepdims=True)\n",
    "    x_std = np.std(x, axis=1, keepdims=True)\n",
    "\n",
    "    #print(\"Mean of each row : \\n\\n\"+str(x_mean))\n",
    "    #print(\"\\nStandard deviation of each row : \\n\\n\"+str(x_std))\n",
    "\n",
    "    X = (x - x_mean)/x_std   #Python Broadcasting\n",
    "\n",
    "    return X"
   ]
  },
  {
   "cell_type": "code",
   "execution_count": 171,
   "metadata": {},
   "outputs": [
    {
     "name": "stdout",
     "output_type": "stream",
     "text": [
      "Standardize train_X : (4, 1097)\n",
      "\n",
      "[[ 1.10745541  0.43009707 -0.91125874 ...  1.39815053  1.2032491\n",
      "  -1.40275082]\n",
      " [ 1.1854149   0.42831004  0.22700059 ...  0.13812018 -1.09924449\n",
      "   0.38369156]\n",
      " [-0.99769912 -1.39549354 -0.90721094 ... -0.11632906  0.42648524\n",
      "  -0.37128944]\n",
      " [ 0.33061578 -0.60045047 -0.61528163 ...  1.00803105  0.28730882\n",
      "  -0.46993633]]\n",
      "\n",
      "\n",
      "Standardize train_X : (4, 275)\n",
      "\n",
      "[[ 0.30402925 -0.67088995  0.08772932 ... -0.19989922  1.24898182\n",
      "   0.3857896 ]\n",
      " [ 1.04410513  1.10098177  0.1417083  ...  0.53292019 -0.36253622\n",
      "  -0.38842319]\n",
      " [-0.73860907  0.22234017 -1.20803562 ... -0.08344456  0.31121636\n",
      "  -0.70407615]\n",
      " [ 0.31211946 -1.74870659 -0.31299232 ...  0.33157896  1.14275517\n",
      "   1.14397786]]\n"
     ]
    }
   ],
   "source": [
    "train_X = standardize(train_X)\n",
    "print(\"Standardize train_X : \"+str(train_X.shape)+\"\\n\\n\"+str(train_X))\n",
    "test_X  = standardize(test_X)\n",
    "print(\"\\n\\nStandardize train_X : \"+str(test_X.shape)+\"\\n\\n\"+str(test_X))"
   ]
  },
  {
   "cell_type": "code",
   "execution_count": 172,
   "metadata": {},
   "outputs": [],
   "source": [
    "# Starting with our problem now"
   ]
  },
  {
   "cell_type": "code",
   "execution_count": null,
   "metadata": {},
   "outputs": [],
   "source": [
    "#First programming all helper function then will integrate the function"
   ]
  },
  {
   "cell_type": "code",
   "execution_count": 173,
   "metadata": {},
   "outputs": [],
   "source": [
    "def sigmoid(z):\n",
    "    \"\"\"\n",
    "    Input  : Scalar or Numpy array z\n",
    "    Output : sigmoid of z\n",
    "    \"\"\"\n",
    "    return 1/(1+np.exp(-1*z))\n",
    "    "
   ]
  },
  {
   "cell_type": "code",
   "execution_count": 187,
   "metadata": {},
   "outputs": [
    {
     "name": "stdout",
     "output_type": "stream",
     "text": [
      "0.5\n",
      "1.0\n",
      "0.6224593312018546\n",
      "[0.62245933 0.73105858 0.9999546 ]\n"
     ]
    }
   ],
   "source": [
    "#Testing Sigmoid\n",
    "print(sigmoid(0))\n",
    "print(sigmoid(1000000000000000))\n",
    "print(sigmoid(0.5))\n",
    "print(sigmoid(np.array([0.5,1, 10])))"
   ]
  },
  {
   "cell_type": "code",
   "execution_count": 192,
   "metadata": {},
   "outputs": [
    {
     "name": "stdout",
     "output_type": "stream",
     "text": [
      "w : [0. 0. 0. ... 0. 0. 0.]\n",
      "b : 0\n"
     ]
    }
   ],
   "source": [
    "#Initializing parameters\n",
    "w, b = np.zeros((train_X.shape[1])), 0 \n",
    "print(\"w : \"+str(w))\n",
    "print(\"b : \"+str(b))"
   ]
  },
  {
   "cell_type": "code",
   "execution_count": 218,
   "metadata": {},
   "outputs": [],
   "source": [
    "def calculate(w,b,X,Y):\n",
    "    \"\"\"\n",
    "    Input : w - wieghts, Numpy array, Real \n",
    "            b - bias, Scalar\n",
    "            X - Input matrix, dim = (4,m_X) , Real Matrix\n",
    "            Y - Output Vector, dim = (1,m_X), Discrete 0/1\n",
    "    \n",
    "    Output: cost - cross entropy loss\n",
    "            dw   - gradient of the loss with respect to w, thus same shape as w\n",
    "            db   - gradient of the loss with respect to b, thus same shape as b\n",
    "    \"\"\"\n",
    "    m = X.shape[1]\n",
    "    Z = np.dot(w.T,X)+b    #Vectorized Implementation\n",
    "    A = sigmoid(Z)\n",
    "    \n",
    "    #Average of loss over m examples \n",
    "    cost = (-1/m)*np.sum(np.multiply(Y,np.log(A))+np.multiply(1-Y,np.log(1-A)))  \n",
    "    \n",
    "    #Gradient\n",
    "    dw = (1/m)*np.dot(X,(A-Y).T)    #Vectorized Implementation\n",
    "    db = (1/m)*np.sum(A-Y)\n",
    "    \n",
    "    gradients = { 'dw':dw, 'db':db}\n",
    "    \n",
    "    return gradients, cost"
   ]
  },
  {
   "cell_type": "code",
   "execution_count": 222,
   "metadata": {},
   "outputs": [],
   "source": [
    "def gradient_descent(w, b, X, Y, num_iterations, alpha, print_cost = False):\n",
    "    \n",
    "    costs = []\n",
    "    \n",
    "    for i in range(num_iterations):  \n",
    "            \n",
    "        gs, cost = calculate(w, b, X, Y)\n",
    "        dw = gs['dw']\n",
    "        db = gs['db']\n",
    "        w = w-alpha*dw\n",
    "        b = b-alpha*db\n",
    "    \n",
    "        if i%100 ==0:\n",
    "            costs.append(cost)\n",
    "        if print_cost and i % 100 == 0:\n",
    "            print (\"Cost after iteration %i: %f\" %(i, cost))\n",
    "            \n",
    "    parameters = {\"w\": w, \"b\": b}\n",
    "    gradients = {\"dw\": dw, \"db\": db}\n",
    "    \n",
    "    return parameters, gradients, costs      \n",
    "  "
   ]
  },
  {
   "cell_type": "code",
   "execution_count": 224,
   "metadata": {},
   "outputs": [],
   "source": [
    "def predict(w, b, X):\n",
    "    m= X.shape[1]\n",
    "    Y_prediction = np.zeros((1,m))\n",
    "    \n",
    "    Z=np.dot(w.T,X)+b\n",
    "    assert((w.T).shape[1]==X.shape[0])\n",
    "    assert(Z.shape == ((w.T).shape[0],X.shape[1]))\n",
    "    A=sigmoid(Z)\n",
    "    \n",
    "    for i in range(A.shape[1]):\n",
    "        if A[0,i]>0.5:\n",
    "            Y_prediction[0,i] = 1\n",
    "        else:\n",
    "            Y_prediction[0,i] =0\n",
    "            \n",
    "    assert(Y_prediction.shape == (1, m))\n",
    "    \n",
    "    return Y_prediction"
   ]
  },
  {
   "cell_type": "code",
   "execution_count": null,
   "metadata": {},
   "outputs": [],
   "source": [
    "\n"
   ]
  },
  {
   "cell_type": "code",
   "execution_count": null,
   "metadata": {},
   "outputs": [],
   "source": []
  }
 ],
 "metadata": {
  "kernelspec": {
   "display_name": "Python 3",
   "language": "python",
   "name": "python3"
  },
  "language_info": {
   "codemirror_mode": {
    "name": "ipython",
    "version": 3
   },
   "file_extension": ".py",
   "mimetype": "text/x-python",
   "name": "python",
   "nbconvert_exporter": "python",
   "pygments_lexer": "ipython3",
   "version": "3.7.4"
  }
 },
 "nbformat": 4,
 "nbformat_minor": 4
}
