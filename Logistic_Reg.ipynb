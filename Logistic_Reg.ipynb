{
 "cells": [
  {
   "cell_type": "code",
   "execution_count": 50,
   "metadata": {},
   "outputs": [],
   "source": [
    "import numpy as np\n",
    "import matplotlib.pyplot as plt\n",
    "%matplotlib inline\n",
    "\n",
    "#importing original dataset\n",
    "data_orig = np.loadtxt('a2_data/data_banknote_authentication.txt', delimiter=',')"
   ]
  },
  {
   "cell_type": "code",
   "execution_count": 59,
   "metadata": {},
   "outputs": [
    {
     "name": "stdout",
     "output_type": "stream",
     "text": [
      "Dataset : \n",
      "\n",
      "[[ -1.8584    7.886    -1.6643   -1.8384    0.     ]\n",
      " [ -2.5754   -5.6574    6.103     0.65214   1.     ]\n",
      " [ -3.0061  -12.2377   11.9552   -2.1603    1.     ]\n",
      " ...\n",
      " [ -0.7869    9.5663   -3.7867   -7.5034    0.     ]\n",
      " [ -2.1674    0.12415  -1.0465   -0.86208   1.     ]\n",
      " [  2.9742    8.96     -2.9024   -1.0379    0.     ]]\n",
      "\n",
      "Dimensions of dataset : (1372, 5)\n"
     ]
    }
   ],
   "source": [
    "#Dataset : \n",
    "\n",
    "print(\"Dataset : \\n\\n\"+ str(data_orig))\n",
    "print(\"\\nDimensions of dataset : \"+str(data_orig.shape))"
   ]
  },
  {
   "cell_type": "code",
   "execution_count": 79,
   "metadata": {},
   "outputs": [],
   "source": [
    "#Seed for np.random\n",
    "seed=1\n",
    "np.random.seed(seed)    "
   ]
  },
  {
   "cell_type": "code",
   "execution_count": 80,
   "metadata": {},
   "outputs": [],
   "source": [
    "#Shuffling imported original dataset\n",
    "np.random.shuffle(data_orig)  "
   ]
  },
  {
   "cell_type": "code",
   "execution_count": 97,
   "metadata": {},
   "outputs": [
    {
     "name": "stdout",
     "output_type": "stream",
     "text": [
      "Shuffled dataset with (Seed 1) :\n",
      "\n",
      "[[ 3.6216   8.6661  -2.8073  -0.44699  0.     ]\n",
      " [ 1.6799   4.2068  -4.5398  -2.3931   1.     ]\n",
      " [-2.1652   3.0211  -2.4132  -2.4241   1.     ]\n",
      " ...\n",
      " [-0.16682  5.8974   0.49839 -0.70044  0.     ]\n",
      " [ 3.8027   0.81529  2.1041   1.0245   0.     ]\n",
      " [ 1.4378   0.66837 -2.0267   1.0271   1.     ]]\n"
     ]
    }
   ],
   "source": [
    "#Shuffled dataset\n",
    "print(\"Shuffled dataset with (Seed \"+str(seed) +\") :\\n\\n\"+str(data_orig))"
   ]
  },
  {
   "cell_type": "code",
   "execution_count": 71,
   "metadata": {},
   "outputs": [
    {
     "name": "stdout",
     "output_type": "stream",
     "text": [
      "Output Y   :[1. 0. 0. ... 0. 1. 1.]\n",
      "Shape of Y : (1372,)\n"
     ]
    }
   ],
   "source": [
    "#Extacting Y\n",
    "y_orig = data_orig[:,-1]\n",
    "print(\"Output Y   :\"+str(y_orig))\n",
    "print(\"Shape of Y : \"+str(y_orig.shape))"
   ]
  },
  {
   "cell_type": "code",
   "execution_count": 74,
   "metadata": {},
   "outputs": [
    {
     "name": "stdout",
     "output_type": "stream",
     "text": [
      "Shape of Y: (1372, 1)\n"
     ]
    }
   ],
   "source": [
    "#Getting rid of Rank 1 array\n",
    "Y = np.reshape(y_orig,(y_orig.shape[0],1))    \n",
    "print(\"Shape of Y: \"+ str(Y.shape))"
   ]
  },
  {
   "cell_type": "code",
   "execution_count": 77,
   "metadata": {},
   "outputs": [
    {
     "name": "stdout",
     "output_type": "stream",
     "text": [
      "Input set : \n",
      "\n",
      "[[-0.69879  -1.8584    1.2616   ...  4.1962   -0.94255  -1.1306  ]\n",
      " [-3.3771    7.886     4.4303   ...  0.74493   0.039307  1.8458  ]\n",
      " [ 4.1211   -1.6643   -1.3335   ...  0.83256  -0.24192  -1.3575  ]\n",
      " [ 1.5043   -1.8384   -1.7517   ...  0.753     0.31593  -1.3806  ]]\n"
     ]
    }
   ],
   "source": [
    "#Extracting vectorized input feature X (transposed)\n",
    "x_shuffled = data_orig[:,(0,1,2,3)].T\n",
    "print(\"Input set : \\n\\n\" +str(x_shuffled))"
   ]
  },
  {
   "cell_type": "code",
   "execution_count": 109,
   "metadata": {},
   "outputs": [
    {
     "name": "stdout",
     "output_type": "stream",
     "text": [
      "Mean of each row : \n",
      "\n",
      "[[ 0.43373526]\n",
      " [ 1.92235312]\n",
      " [ 1.39762712]\n",
      " [-1.19165652]]\n",
      "\n",
      "Standard deviation of each row : \n",
      "\n",
      "[[2.84172641]\n",
      " [5.86690749]\n",
      " [4.30845909]\n",
      " [2.10024732]]\n",
      "\n",
      "Input set : \n",
      "\n",
      "[[-0.39853423 -0.80659956  0.29132458 ...  1.32400668 -0.48431308\n",
      "  -0.55048764]\n",
      " [-0.90327879  1.01648899  0.4274734  ... -0.20068888 -0.3209606\n",
      "  -0.01304829]\n",
      " [ 0.63212226 -0.71067801 -0.63389882 ... -0.13115295 -0.38054141\n",
      "  -0.63946925]\n",
      " [ 1.28363764 -0.30793682 -0.26665597 ...  0.92591787  0.7178138\n",
      "  -0.08996249]]\n"
     ]
    }
   ],
   "source": [
    "#Standardizeing input vector X\n",
    "\n",
    "x_shuffled_mean = np.mean(x_shuffled,axis=1, keepdims=True)\n",
    "x_shuffled_std = np.std(x_shuffled, axis=1, keepdims=True)\n",
    "\n",
    "print(\"Mean of each row : \\n\\n\"+str(x_shuffled_mean))\n",
    "print(\"\\nStandard deviation of each row : \\n\\n\"+str(x_shuffled_std))\n",
    "\n",
    "X = (x_shuffled - x_shuffled_mean)/x_shuffled_std   #Python Broadcasting\n",
    "print(\"\\nInput set : \\n\\n\"+str(X))"
   ]
  },
  {
   "cell_type": "code",
   "execution_count": 108,
   "metadata": {},
   "outputs": [
    {
     "name": "stdout",
     "output_type": "stream",
     "text": [
      "(4, 1372)\n"
     ]
    }
   ],
   "source": [
    "print(X.shape)"
   ]
  },
  {
   "cell_type": "code",
   "execution_count": 25,
   "metadata": {},
   "outputs": [],
   "source": []
  },
  {
   "cell_type": "code",
   "execution_count": null,
   "metadata": {},
   "outputs": [],
   "source": [
    "\n"
   ]
  },
  {
   "cell_type": "code",
   "execution_count": 32,
   "metadata": {},
   "outputs": [],
   "source": []
  },
  {
   "cell_type": "code",
   "execution_count": null,
   "metadata": {},
   "outputs": [],
   "source": []
  },
  {
   "cell_type": "code",
   "execution_count": null,
   "metadata": {},
   "outputs": [],
   "source": []
  },
  {
   "cell_type": "code",
   "execution_count": null,
   "metadata": {},
   "outputs": [],
   "source": []
  }
 ],
 "metadata": {
  "kernelspec": {
   "display_name": "Python 3",
   "language": "python",
   "name": "python3"
  },
  "language_info": {
   "codemirror_mode": {
    "name": "ipython",
    "version": 3
   },
   "file_extension": ".py",
   "mimetype": "text/x-python",
   "name": "python",
   "nbconvert_exporter": "python",
   "pygments_lexer": "ipython3",
   "version": "3.7.4"
  }
 },
 "nbformat": 4,
 "nbformat_minor": 4
}
